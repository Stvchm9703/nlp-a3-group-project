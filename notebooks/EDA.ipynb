{
 "cells": [
  {
   "cell_type": "markdown",
   "id": "b238dfac-34c2-43f7-a567-ee6744a5f19a",
   "metadata": {},
   "source": [
    "## 1. Import Libraries and Load Data"
   ]
  },
  {
   "cell_type": "code",
   "execution_count": 1,
   "id": "3898406d-aee9-4971-8674-9cc1b76a76d3",
   "metadata": {},
   "outputs": [],
   "source": [
    "from datasets import load_dataset\n",
    "import pandas as pd\n",
    "\n",
    "# Load the dataset\n",
    "dataset = load_dataset(\"conll2003\")"
   ]
  },
  {
   "cell_type": "markdown",
   "id": "55922cf8-cd7a-48a5-a7b2-1740fd175205",
   "metadata": {},
   "source": [
    "## 2. Explore the Dataset Structure"
   ]
  },
  {
   "cell_type": "code",
   "execution_count": 24,
   "id": "00e3ac78-2359-414c-a6ba-e34acb91a292",
   "metadata": {},
   "outputs": [
    {
     "data": {
      "text/plain": [
       "DatasetDict({\n",
       "    train: Dataset({\n",
       "        features: ['id', 'tokens', 'pos_tags', 'chunk_tags', 'ner_tags'],\n",
       "        num_rows: 14041\n",
       "    })\n",
       "    validation: Dataset({\n",
       "        features: ['id', 'tokens', 'pos_tags', 'chunk_tags', 'ner_tags'],\n",
       "        num_rows: 3250\n",
       "    })\n",
       "    test: Dataset({\n",
       "        features: ['id', 'tokens', 'pos_tags', 'chunk_tags', 'ner_tags'],\n",
       "        num_rows: 3453\n",
       "    })\n",
       "})"
      ]
     },
     "metadata": {},
     "output_type": "display_data"
    }
   ],
   "source": [
    "# Display the dataset structure\n",
    "display(dataset)"
   ]
  },
  {
   "cell_type": "code",
   "execution_count": 25,
   "id": "f5456a5c-9da1-46c5-9dbf-d2e9beba48c6",
   "metadata": {},
   "outputs": [
    {
     "data": {
      "text/plain": [
       "{'id': '0',\n",
       " 'tokens': ['EU',\n",
       "  'rejects',\n",
       "  'German',\n",
       "  'call',\n",
       "  'to',\n",
       "  'boycott',\n",
       "  'British',\n",
       "  'lamb',\n",
       "  '.'],\n",
       " 'pos_tags': [22, 42, 16, 21, 35, 37, 16, 21, 7],\n",
       " 'chunk_tags': [11, 21, 11, 12, 21, 22, 11, 12, 0],\n",
       " 'ner_tags': [3, 0, 7, 0, 0, 0, 7, 0, 0]}"
      ]
     },
     "metadata": {},
     "output_type": "display_data"
    }
   ],
   "source": [
    "# Show a sample from the training set\n",
    "display(dataset['train'][0])"
   ]
  },
  {
   "cell_type": "code",
   "execution_count": 26,
   "id": "5651c6a7-15f8-4b9e-8422-40630b65030e",
   "metadata": {},
   "outputs": [
    {
     "data": {
      "text/plain": [
       "{0: 'O',\n",
       " 1: 'B-PER',\n",
       " 2: 'I-PER',\n",
       " 3: 'B-ORG',\n",
       " 4: 'I-ORG',\n",
       " 5: 'B-LOC',\n",
       " 6: 'I-LOC',\n",
       " 7: 'B-MISC',\n",
       " 8: 'I-MISC'}"
      ]
     },
     "metadata": {},
     "output_type": "display_data"
    }
   ],
   "source": [
    "# show ner_tags and indices\n",
    "label_list = dataset['train'].features['ner_tags'].feature.names\n",
    "labels_with_indices = {index:label for index, label in enumerate(label_list)}\n",
    "display(labels_with_indices)"
   ]
  },
  {
   "cell_type": "markdown",
   "id": "b6f2ec4f-debb-4d8b-85e7-e15ad83aa6f9",
   "metadata": {},
   "source": [
    "# 3. Convert to DataFrame for Easier Manipulation"
   ]
  },
  {
   "cell_type": "code",
   "execution_count": 5,
   "id": "2fd1652f-d213-406d-adc9-6fbd01193a62",
   "metadata": {},
   "outputs": [
    {
     "data": {
      "text/html": [
       "<div>\n",
       "<style scoped>\n",
       "    .dataframe tbody tr th:only-of-type {\n",
       "        vertical-align: middle;\n",
       "    }\n",
       "\n",
       "    .dataframe tbody tr th {\n",
       "        vertical-align: top;\n",
       "    }\n",
       "\n",
       "    .dataframe thead th {\n",
       "        text-align: right;\n",
       "    }\n",
       "</style>\n",
       "<table border=\"1\" class=\"dataframe\">\n",
       "  <thead>\n",
       "    <tr style=\"text-align: right;\">\n",
       "      <th></th>\n",
       "      <th>id</th>\n",
       "      <th>tokens</th>\n",
       "      <th>pos_tags</th>\n",
       "      <th>chunk_tags</th>\n",
       "      <th>ner_tags</th>\n",
       "    </tr>\n",
       "  </thead>\n",
       "  <tbody>\n",
       "    <tr>\n",
       "      <th>0</th>\n",
       "      <td>0</td>\n",
       "      <td>[EU, rejects, German, call, to, boycott, Briti...</td>\n",
       "      <td>[22, 42, 16, 21, 35, 37, 16, 21, 7]</td>\n",
       "      <td>[11, 21, 11, 12, 21, 22, 11, 12, 0]</td>\n",
       "      <td>[3, 0, 7, 0, 0, 0, 7, 0, 0]</td>\n",
       "    </tr>\n",
       "    <tr>\n",
       "      <th>1</th>\n",
       "      <td>1</td>\n",
       "      <td>[Peter, Blackburn]</td>\n",
       "      <td>[22, 22]</td>\n",
       "      <td>[11, 12]</td>\n",
       "      <td>[1, 2]</td>\n",
       "    </tr>\n",
       "    <tr>\n",
       "      <th>2</th>\n",
       "      <td>2</td>\n",
       "      <td>[BRUSSELS, 1996-08-22]</td>\n",
       "      <td>[22, 11]</td>\n",
       "      <td>[11, 12]</td>\n",
       "      <td>[5, 0]</td>\n",
       "    </tr>\n",
       "    <tr>\n",
       "      <th>3</th>\n",
       "      <td>3</td>\n",
       "      <td>[The, European, Commission, said, on, Thursday...</td>\n",
       "      <td>[12, 22, 22, 38, 15, 22, 28, 38, 15, 16, 21, 3...</td>\n",
       "      <td>[11, 12, 12, 21, 13, 11, 11, 21, 13, 11, 12, 1...</td>\n",
       "      <td>[0, 3, 4, 0, 0, 0, 0, 0, 0, 7, 0, 0, 0, 0, 0, ...</td>\n",
       "    </tr>\n",
       "    <tr>\n",
       "      <th>4</th>\n",
       "      <td>4</td>\n",
       "      <td>[Germany, 's, representative, to, the, Europea...</td>\n",
       "      <td>[22, 27, 21, 35, 12, 22, 22, 27, 16, 21, 22, 2...</td>\n",
       "      <td>[11, 11, 12, 13, 11, 12, 12, 11, 12, 12, 12, 1...</td>\n",
       "      <td>[5, 0, 0, 0, 0, 3, 4, 0, 0, 0, 1, 2, 0, 0, 0, ...</td>\n",
       "    </tr>\n",
       "  </tbody>\n",
       "</table>\n",
       "</div>"
      ],
      "text/plain": [
       "  id                                             tokens  \\\n",
       "0  0  [EU, rejects, German, call, to, boycott, Briti...   \n",
       "1  1                                 [Peter, Blackburn]   \n",
       "2  2                             [BRUSSELS, 1996-08-22]   \n",
       "3  3  [The, European, Commission, said, on, Thursday...   \n",
       "4  4  [Germany, 's, representative, to, the, Europea...   \n",
       "\n",
       "                                            pos_tags  \\\n",
       "0                [22, 42, 16, 21, 35, 37, 16, 21, 7]   \n",
       "1                                           [22, 22]   \n",
       "2                                           [22, 11]   \n",
       "3  [12, 22, 22, 38, 15, 22, 28, 38, 15, 16, 21, 3...   \n",
       "4  [22, 27, 21, 35, 12, 22, 22, 27, 16, 21, 22, 2...   \n",
       "\n",
       "                                          chunk_tags  \\\n",
       "0                [11, 21, 11, 12, 21, 22, 11, 12, 0]   \n",
       "1                                           [11, 12]   \n",
       "2                                           [11, 12]   \n",
       "3  [11, 12, 12, 21, 13, 11, 11, 21, 13, 11, 12, 1...   \n",
       "4  [11, 11, 12, 13, 11, 12, 12, 11, 12, 12, 12, 1...   \n",
       "\n",
       "                                            ner_tags  \n",
       "0                        [3, 0, 7, 0, 0, 0, 7, 0, 0]  \n",
       "1                                             [1, 2]  \n",
       "2                                             [5, 0]  \n",
       "3  [0, 3, 4, 0, 0, 0, 0, 0, 0, 7, 0, 0, 0, 0, 0, ...  \n",
       "4  [5, 0, 0, 0, 0, 3, 4, 0, 0, 0, 1, 2, 0, 0, 0, ...  "
      ]
     },
     "metadata": {},
     "output_type": "display_data"
    }
   ],
   "source": [
    "# Convert the training dataset to a DataFrame\n",
    "train_df = pd.DataFrame(dataset['train'])\n",
    "display(train_df.head())"
   ]
  },
  {
   "cell_type": "code",
   "execution_count": 6,
   "id": "51a38a08-c4d4-47b9-97b9-b2878255b383",
   "metadata": {},
   "outputs": [],
   "source": [
    "## 4. Basic Statistics of the Data"
   ]
  },
  {
   "cell_type": "code",
   "execution_count": 7,
   "id": "a87295f1-8a79-4260-8899-5ad041041663",
   "metadata": {},
   "outputs": [
    {
     "name": "stdout",
     "output_type": "stream",
     "text": [
      "<class 'pandas.core.frame.DataFrame'>\n",
      "RangeIndex: 14041 entries, 0 to 14040\n",
      "Data columns (total 5 columns):\n",
      " #   Column      Non-Null Count  Dtype \n",
      "---  ------      --------------  ----- \n",
      " 0   id          14041 non-null  object\n",
      " 1   tokens      14041 non-null  object\n",
      " 2   pos_tags    14041 non-null  object\n",
      " 3   chunk_tags  14041 non-null  object\n",
      " 4   ner_tags    14041 non-null  object\n",
      "dtypes: object(5)\n",
      "memory usage: 548.6+ KB\n"
     ]
    },
    {
     "data": {
      "text/html": [
       "<div>\n",
       "<style scoped>\n",
       "    .dataframe tbody tr th:only-of-type {\n",
       "        vertical-align: middle;\n",
       "    }\n",
       "\n",
       "    .dataframe tbody tr th {\n",
       "        vertical-align: top;\n",
       "    }\n",
       "\n",
       "    .dataframe thead th {\n",
       "        text-align: right;\n",
       "    }\n",
       "</style>\n",
       "<table border=\"1\" class=\"dataframe\">\n",
       "  <thead>\n",
       "    <tr style=\"text-align: right;\">\n",
       "      <th></th>\n",
       "      <th>id</th>\n",
       "      <th>tokens</th>\n",
       "      <th>pos_tags</th>\n",
       "      <th>chunk_tags</th>\n",
       "      <th>ner_tags</th>\n",
       "    </tr>\n",
       "  </thead>\n",
       "  <tbody>\n",
       "    <tr>\n",
       "      <th>count</th>\n",
       "      <td>14041</td>\n",
       "      <td>14041</td>\n",
       "      <td>14041</td>\n",
       "      <td>14041</td>\n",
       "      <td>14041</td>\n",
       "    </tr>\n",
       "    <tr>\n",
       "      <th>unique</th>\n",
       "      <td>14041</td>\n",
       "      <td>12691</td>\n",
       "      <td>9139</td>\n",
       "      <td>7878</td>\n",
       "      <td>5684</td>\n",
       "    </tr>\n",
       "    <tr>\n",
       "      <th>top</th>\n",
       "      <td>0</td>\n",
       "      <td>[for, ,, against, ,, points, ), :]</td>\n",
       "      <td>[22, 11]</td>\n",
       "      <td>[11, 12]</td>\n",
       "      <td>[5, 0]</td>\n",
       "    </tr>\n",
       "    <tr>\n",
       "      <th>freq</th>\n",
       "      <td>1</td>\n",
       "      <td>16</td>\n",
       "      <td>455</td>\n",
       "      <td>870</td>\n",
       "      <td>649</td>\n",
       "    </tr>\n",
       "  </tbody>\n",
       "</table>\n",
       "</div>"
      ],
      "text/plain": [
       "           id                              tokens  pos_tags chunk_tags  \\\n",
       "count   14041                               14041     14041      14041   \n",
       "unique  14041                               12691      9139       7878   \n",
       "top         0  [for, ,, against, ,, points, ), :]  [22, 11]   [11, 12]   \n",
       "freq        1                                  16       455        870   \n",
       "\n",
       "       ner_tags  \n",
       "count     14041  \n",
       "unique     5684  \n",
       "top      [5, 0]  \n",
       "freq        649  "
      ]
     },
     "execution_count": 7,
     "metadata": {},
     "output_type": "execute_result"
    }
   ],
   "source": [
    "# Display basic information about the DataFrame\n",
    "train_df.info()\n",
    "\n",
    "# Summary statistics for numerical data\n",
    "train_df.describe()"
   ]
  },
  {
   "cell_type": "markdown",
   "id": "333dbece-ec5a-4704-aa50-daeb077ff101",
   "metadata": {},
   "source": [
    "## 5. Distribution of NER Tags"
   ]
  },
  {
   "cell_type": "code",
   "execution_count": 8,
   "id": "68267777-3fb1-407d-a9fc-4a06caa987e1",
   "metadata": {},
   "outputs": [
    {
     "data": {
      "text/plain": [
       "ner_tags\n",
       "0    169578\n",
       "5      7140\n",
       "1      6600\n",
       "3      6321\n",
       "2      4528\n",
       "4      3704\n",
       "7      3438\n",
       "6      1157\n",
       "8      1155\n",
       "Name: count, dtype: int64"
      ]
     },
     "metadata": {},
     "output_type": "display_data"
    }
   ],
   "source": [
    "# Get a count of each tag in the training data\n",
    "tags_counts = train_df['ner_tags'].explode().value_counts()\n",
    "display(tags_counts)"
   ]
  },
  {
   "cell_type": "code",
   "execution_count": 23,
   "id": "8b45bb0e-4ac3-4e5b-b482-e38be7b9dff9",
   "metadata": {},
   "outputs": [
    {
     "data": {
      "text/plain": [
       "ner_tags\n",
       "O         169578\n",
       "B-LOC       7140\n",
       "B-PER       6600\n",
       "B-ORG       6321\n",
       "I-PER       4528\n",
       "I-ORG       3704\n",
       "B-MISC      3438\n",
       "I-LOC       1157\n",
       "I-MISC      1155\n",
       "Name: count, dtype: int64"
      ]
     },
     "metadata": {},
     "output_type": "display_data"
    }
   ],
   "source": [
    "# Access the features and get the label names for NER\n",
    "label_list = dataset['train'].features['ner_tags'].feature.names\n",
    "# Convert the training dataset to a DataFrame\n",
    "train_df = pd.DataFrame(dataset['train'])\n",
    "# Explode the 'ner_tags' to count each tag occurrence\n",
    "tags_counts = train_df['ner_tags'].explode().value_counts()\n",
    "# Map indices to names using the label list\n",
    "tags_counts_named = tags_counts.rename(index=lambda x: label_list[x])\n",
    "# Display the tag names with their counts\n",
    "display(tags_counts_named)"
   ]
  },
  {
   "cell_type": "markdown",
   "id": "7c8abbca-34d9-4d4b-b65b-4c0d6c01ce1b",
   "metadata": {},
   "source": [
    "## 6. Plotting the Distribution of Sentence Lengths"
   ]
  },
  {
   "cell_type": "code",
   "execution_count": 27,
   "id": "eedbd212-d7ee-4b88-8acf-29bb97ef01be",
   "metadata": {},
   "outputs": [
    {
     "data": {
      "image/png": "[encoded data removed]",
      "text/plain": [
       "<Figure size 500x300 with 1 Axes>"
      ]
     },
     "metadata": {},
     "output_type": "display_data"
    }
   ],
   "source": [
    "import matplotlib.pyplot as plt\n",
    "import numpy as np\n",
    "\n",
    "# Calculate sentence lengths\n",
    "sentence_lengths = train_df['tokens'].apply(len)\n",
    "max_length = max(sentence_lengths)\n",
    "bins = np.arange(0, max_length + 10, 10)  # +10 to include the maximum length in the range\n",
    "\n",
    "# Plot the distribution of sentence lengths\n",
    "plt.figure(figsize=(5, 3))\n",
    "plt.hist(sentence_lengths, bins=bins)\n",
    "plt.title('Distribution of Sentence Lengths')\n",
    "plt.xlabel('Sentence Length')\n",
    "plt.ylabel('Frequency')\n",
    "plt.show()"
   ]
  }
 ],
 "metadata": {
  "kernelspec": {
   "display_name": "Python 3 (ipykernel)",
   "language": "python",
   "name": "python3"
  },
  "language_info": {
   "codemirror_mode": {
    "name": "ipython",
    "version": 3
   },
   "file_extension": ".py",
   "mimetype": "text/x-python",
   "name": "python",
   "nbconvert_exporter": "python",
   "pygments_lexer": "ipython3",
   "version": "3.10.14"
  },
  "widgets": {
   "application/vnd.jupyter.widget-state+json": {
    "state": {},
    "version_major": 2,
    "version_minor": 0
   }
  }
 },
 "nbformat": 4,
 "nbformat_minor": 5
}
